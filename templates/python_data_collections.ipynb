{
  "nbformat": 4,
  "nbformat_minor": 0,
  "metadata": {
    "colab": {
      "provenance": [],
      "authorship_tag": "ABX9TyPVNAMMnLUTKtJ2ExBkC2qB",
      "include_colab_link": true
    },
    "kernelspec": {
      "name": "python3",
      "display_name": "Python 3"
    },
    "language_info": {
      "name": "python"
    }
  },
  "cells": [
    {
      "cell_type": "markdown",
      "metadata": {
        "id": "view-in-github",
        "colab_type": "text"
      },
      "source": [
        "<a href=\"https://colab.research.google.com/github/MariaZeleznik/learning_collab/blob/main/templates/python_data_collections.ipynb\" target=\"_parent\"><img src=\"https://colab.research.google.com/assets/colab-badge.svg\" alt=\"Open In Colab\"/></a>"
      ]
    },
    {
      "cell_type": "markdown",
      "source": [
        "rozne metody generowania listy\n"
      ],
      "metadata": {
        "id": "FfwWNpWcserU"
      }
    },
    {
      "cell_type": "code",
      "source": [
        "\n",
        "\n",
        "my_list=[1, 2, 3]\n",
        "ret_val=my_list.pop(1)\n",
        "my_list.index(3)"
      ],
      "metadata": {
        "colab": {
          "base_uri": "https://localhost:8080/"
        },
        "id": "FBwrq4Lyq70S",
        "outputId": "77734627-88d3-460f-b388-185c740389d3"
      },
      "execution_count": 8,
      "outputs": [
        {
          "output_type": "execute_result",
          "data": {
            "text/plain": [
              "1"
            ]
          },
          "metadata": {},
          "execution_count": 8
        }
      ]
    },
    {
      "cell_type": "code",
      "source": [
        "my_list=list(range(0, 100))\n"
      ],
      "metadata": {
        "id": "gB4TgJKgrjHn"
      },
      "execution_count": null,
      "outputs": []
    },
    {
      "cell_type": "code",
      "source": [
        "my_list=[]\n",
        "\n",
        "for x in range(10):\n",
        "  my_list.append(x)\n",
        "print(my_list)\n",
        "\n",
        "print(type(my_list))\n",
        "print(type(x))"
      ],
      "metadata": {
        "colab": {
          "base_uri": "https://localhost:8080/"
        },
        "id": "uUOVlULotEr2",
        "outputId": "d958ea30-4730-4438-eddb-9f4e0adfe49b"
      },
      "execution_count": 25,
      "outputs": [
        {
          "output_type": "stream",
          "name": "stdout",
          "text": [
            "[0, 1, 2, 3, 4, 5, 6, 7, 8, 9]\n",
            "<class 'list'>\n",
            "<class 'int'>\n"
          ]
        }
      ]
    },
    {
      "cell_type": "code",
      "source": [
        "my_list=[x*2 for x in range(10) if x>3]\n",
        "my_list\n"
      ],
      "metadata": {
        "colab": {
          "base_uri": "https://localhost:8080/"
        },
        "id": "BIWHRSPitgE3",
        "outputId": "81306c20-bd7e-4704-add8-322d5fc92ffc"
      },
      "execution_count": 32,
      "outputs": [
        {
          "output_type": "execute_result",
          "data": {
            "text/plain": [
              "[8, 10, 12, 14, 16, 18]"
            ]
          },
          "metadata": {},
          "execution_count": 32
        }
      ]
    },
    {
      "cell_type": "code",
      "source": [
        "print(len(my_list))\n",
        "print(max(my_list))\n",
        "print(min(my_list))\n",
        "import math\n",
        "print(sum(my_list))\n",
        "\n",
        "import statistics \n",
        "\n",
        "statistics.mean(my_list)\n",
        "\n",
        "my_list_text=[\"1\", \"2\", \"3\"]\n",
        "my_list=[int(x) for x in my_list_text]\n",
        "average=sum(my_list)/len(my_list)\n",
        "print(type(average))\n",
        "# print(type(int(\"3\")))\n",
        "# print(type(\"3\"))\n",
        "\n"
      ],
      "metadata": {
        "colab": {
          "base_uri": "https://localhost:8080/"
        },
        "id": "UqNjsvA6wKtm",
        "outputId": "cc26bcce-1d68-4557-9c15-3d0292440b94"
      },
      "execution_count": 61,
      "outputs": [
        {
          "output_type": "stream",
          "name": "stdout",
          "text": [
            "3\n",
            "3\n",
            "1\n",
            "6\n",
            "<class 'float'>\n"
          ]
        }
      ]
    },
    {
      "cell_type": "code",
      "source": [
        "x=2.65\n",
        "int(x)\n",
        "round(x)\n",
        "math.ceil(x)"
      ],
      "metadata": {
        "colab": {
          "base_uri": "https://localhost:8080/"
        },
        "id": "KGg7fh5sxLE1",
        "outputId": "98266e08-bec0-44cf-930c-c2bd21a7ba37"
      },
      "execution_count": 65,
      "outputs": [
        {
          "output_type": "execute_result",
          "data": {
            "text/plain": [
              "3"
            ]
          },
          "metadata": {},
          "execution_count": 65
        }
      ]
    },
    {
      "cell_type": "code",
      "source": [
        "my_list=[0, 1, 2]*30\n",
        "print(my_list)"
      ],
      "metadata": {
        "colab": {
          "base_uri": "https://localhost:8080/"
        },
        "id": "7P_FOB371-bH",
        "outputId": "eb9dc660-57ac-470a-e194-7f7c0ba76f79"
      },
      "execution_count": 73,
      "outputs": [
        {
          "output_type": "stream",
          "name": "stdout",
          "text": [
            "[0, 1, 2, 0, 1, 2, 0, 1, 2, 0, 1, 2, 0, 1, 2, 0, 1, 2, 0, 1, 2, 0, 1, 2, 0, 1, 2, 0, 1, 2, 0, 1, 2, 0, 1, 2, 0, 1, 2, 0, 1, 2, 0, 1, 2, 0, 1, 2, 0, 1, 2, 0, 1, 2, 0, 1, 2, 0, 1, 2, 0, 1, 2, 0, 1, 2, 0, 1, 2, 0, 1, 2, 0, 1, 2, 0, 1, 2, 0, 1, 2, 0, 1, 2, 0, 1, 2, 0, 1, 2]\n"
          ]
        }
      ]
    },
    {
      "cell_type": "code",
      "source": [
        "import string\n",
        "my_list=[x for x in string.ascii_lowercase]\n",
        "print(my_list[2::3])\n",
        "my_list=[x.upper() for x in my_list]\n",
        "print(my_list)\n",
        "napis=\"gdf\"\n",
        "print(type(napis))\n",
        "print(str.upper(napis))\n",
        "print(napis.upper())\n"
      ],
      "metadata": {
        "colab": {
          "base_uri": "https://localhost:8080/"
        },
        "id": "AoXHq8tD2aFA",
        "outputId": "9a76c4a5-ddc6-4c1f-fd41-790436940993"
      },
      "execution_count": 106,
      "outputs": [
        {
          "output_type": "stream",
          "name": "stdout",
          "text": [
            "['c', 'f', 'i', 'l', 'o', 'r', 'u', 'x']\n",
            "['A', 'B', 'C', 'D', 'E', 'F', 'G', 'H', 'I', 'J', 'K', 'L', 'M', 'N', 'O', 'P', 'Q', 'R', 'S', 'T', 'U', 'V', 'W', 'X', 'Y', 'Z']\n",
            "<class 'str'>\n",
            "GDF\n",
            "GDF\n"
          ]
        }
      ]
    },
    {
      "cell_type": "code",
      "source": [
        "napis1=\"pierwszy\"\n",
        "napis2=str(\"drugi\")\n",
        "print(napis1, napis2)\n"
      ],
      "metadata": {
        "colab": {
          "base_uri": "https://localhost:8080/"
        },
        "id": "E85ZYq473Nou",
        "outputId": "22eb5935-dbd2-45eb-fe4c-685075c29577"
      },
      "execution_count": 107,
      "outputs": [
        {
          "output_type": "stream",
          "name": "stdout",
          "text": [
            "pierwszy drugi\n"
          ]
        }
      ]
    },
    {
      "cell_type": "code",
      "source": [
        "my_int=int(\"1\")\n",
        "print(\"trzeci\".upper())"
      ],
      "metadata": {
        "colab": {
          "base_uri": "https://localhost:8080/"
        },
        "id": "CDigpsTV8pQg",
        "outputId": "674e4817-9bcd-43e4-cac6-02d66b1971cd"
      },
      "execution_count": 108,
      "outputs": [
        {
          "output_type": "stream",
          "name": "stdout",
          "text": [
            "TRZECI\n"
          ]
        }
      ]
    },
    {
      "cell_type": "code",
      "source": [
        "my_list=string.ascii_lowercase\n",
        "print(my_list)"
      ],
      "metadata": {
        "colab": {
          "base_uri": "https://localhost:8080/"
        },
        "id": "Twa3-zDg9A-X",
        "outputId": "df135f1e-ba18-42da-d2b9-ea3d3e378de1"
      },
      "execution_count": 112,
      "outputs": [
        {
          "output_type": "stream",
          "name": "stdout",
          "text": [
            "abcdefghijklmnopqrstuvwxyz\n"
          ]
        }
      ]
    },
    {
      "cell_type": "code",
      "source": [
        "x=list(my_list)\n",
        "print(x)\n"
      ],
      "metadata": {
        "colab": {
          "base_uri": "https://localhost:8080/"
        },
        "id": "VEcoYreW9SOl",
        "outputId": "91a87553-8a25-48e0-faaf-17231ff7bc69"
      },
      "execution_count": 113,
      "outputs": [
        {
          "output_type": "stream",
          "name": "stdout",
          "text": [
            "['a', 'b', 'c', 'd', 'e', 'f', 'g', 'h', 'i', 'j', 'k', 'l', 'm', 'n', 'o', 'p', 'q', 'r', 's', 't', 'u', 'v', 'w', 'x', 'y', 'z']\n"
          ]
        }
      ]
    },
    {
      "cell_type": "code",
      "source": [
        "my_lambda=lambda x: x*x\n",
        "my_lambda(4)"
      ],
      "metadata": {
        "colab": {
          "base_uri": "https://localhost:8080/"
        },
        "id": "N2CElC0K9qDe",
        "outputId": "cf445bf8-8d74-48da-9377-fcf08fc0107e"
      },
      "execution_count": 114,
      "outputs": [
        {
          "output_type": "execute_result",
          "data": {
            "text/plain": [
              "16"
            ]
          },
          "metadata": {},
          "execution_count": 114
        }
      ]
    },
    {
      "cell_type": "code",
      "source": [
        "def my_pow(x):\n",
        "  return x*x\n",
        "  \n",
        "upper_list=map(my_lambda, list(range(10)))\n",
        "print(upper_list)\n",
        "list(upper_list)"
      ],
      "metadata": {
        "colab": {
          "base_uri": "https://localhost:8080/"
        },
        "id": "Ni3I82XU-Qyq",
        "outputId": "a9ed1d4a-976a-43c3-9825-fc6a32339e5f"
      },
      "execution_count": 119,
      "outputs": [
        {
          "output_type": "stream",
          "name": "stdout",
          "text": [
            "<map object at 0x7f0767b7a550>\n"
          ]
        },
        {
          "output_type": "execute_result",
          "data": {
            "text/plain": [
              "[0, 1, 4, 9, 16, 25, 36, 49, 64, 81]"
            ]
          },
          "metadata": {},
          "execution_count": 119
        }
      ]
    },
    {
      "cell_type": "code",
      "source": [
        "upper_list=map(lambda x: x*x*x, list(range(10)))\n",
        "print(upper_list)\n",
        "list(upper_list)\n"
      ],
      "metadata": {
        "colab": {
          "base_uri": "https://localhost:8080/"
        },
        "id": "_bjPFoTg_W95",
        "outputId": "f41431a3-76a9-4e83-8a24-2930e27052d8"
      },
      "execution_count": 121,
      "outputs": [
        {
          "output_type": "stream",
          "name": "stdout",
          "text": [
            "<map object at 0x7f07707ca210>\n"
          ]
        },
        {
          "output_type": "execute_result",
          "data": {
            "text/plain": [
              "[0, 1, 8, 27, 64, 125, 216, 343, 512, 729]"
            ]
          },
          "metadata": {},
          "execution_count": 121
        }
      ]
    },
    {
      "cell_type": "code",
      "source": [
        "upper_case_list=list(my_list)\n",
        "# lambda x: x.upper()\n",
        "upper_case_list=list(map(lambda x: x.upper(), list(my_list)))\n",
        "print(upper_case_list)"
      ],
      "metadata": {
        "colab": {
          "base_uri": "https://localhost:8080/"
        },
        "id": "Q0qrWpWgAid2",
        "outputId": "fa398115-2749-48bd-b52e-70bac35da25f"
      },
      "execution_count": 125,
      "outputs": [
        {
          "output_type": "stream",
          "name": "stdout",
          "text": [
            "['A', 'B', 'C', 'D', 'E', 'F', 'G', 'H', 'I', 'J', 'K', 'L', 'M', 'N', 'O', 'P', 'Q', 'R', 'S', 'T', 'U', 'V', 'W', 'X', 'Y', 'Z']\n"
          ]
        }
      ]
    },
    {
      "cell_type": "code",
      "source": [],
      "metadata": {
        "id": "Wcux2pOBA7gA"
      },
      "execution_count": null,
      "outputs": []
    }
  ]
}